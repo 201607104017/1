{
 "cells": [
  {
   "cell_type": "code",
   "execution_count": 1,
   "metadata": {},
   "outputs": [
    {
     "name": "stdout",
     "output_type": "stream",
     "text": [
      "1.05.012.022.035.051.070.092.0117.0145.0\n",
      "176.0210.0247.0287.0330.0376.0425.0477.0532.0590.0\n",
      "651.0715.0782.0852.0925.01001.01080.01162.01247.01335.0\n",
      "1426.01520.01617.01717.01820.01926.02035.02147.02262.02380.0\n",
      "2501.02625.02752.02882.03015.03151.03290.03432.03577.03725.0\n",
      "3876.04030.04187.04347.04510.04676.04845.05017.05192.05370.0\n",
      "5551.05735.05922.06112.06305.06501.06700.06902.07107.07315.0\n",
      "7526.07740.07957.08177.08400.08626.08855.09087.09322.09560.0\n",
      "9801.010045.010292.010542.010795.011051.011310.011572.011837.012105.0\n",
      "12376.012650.012927.013207.013490.013776.014065.014357.014652.014950.0\n"
     ]
    }
   ],
   "source": [
    "\"\"\"\n",
    "1.五角数：n(3n-1)/2,n=1、2…\n",
    "用def getPentagona1number(n):\n",
    "\"\"\"\n",
    "def getPentagona1number(n):\n",
    "    #final int number_per_line=10;\n",
    "    #for int i=1;i<=n;i++ \n",
    "    c = n*(3*n-1)/2\n",
    "    if n%10 !=0:\n",
    "        print(c,end='') \n",
    "    else:\n",
    "        print(c)\n",
    "        \n",
    "for i in range(1,101):\n",
    "    getPentagona1number(i)        "
   ]
  },
  {
   "cell_type": "code",
   "execution_count": 2,
   "metadata": {},
   "outputs": [
    {
     "name": "stdout",
     "output_type": "stream",
     "text": [
      "39\n"
     ]
    }
   ],
   "source": [
    "\"\"\"\n",
    "2/计算一个整数各个数字的和\n",
    "\"\"\"\n",
    "def sumDigits(n):\n",
    "    a=n\n",
    "    w=0\n",
    "    for i in range(0,len(str(a))):\n",
    "        if i<len(str(a)):\n",
    "            q = n%10\n",
    "            n = n//10\n",
    "        w = w + q\n",
    "    print(w)\n",
    "sumDigits(456789)"
   ]
  },
  {
   "cell_type": "code",
   "execution_count": 3,
   "metadata": {},
   "outputs": [
    {
     "name": "stdout",
     "output_type": "stream",
     "text": [
      "5 2 4\n",
      "2 4 5\n"
     ]
    }
   ],
   "source": [
    "\"\"\"\n",
    "3.排序，提示输入3个整数，升序排列\n",
    "def displaySortedNumbers(num1,num2,num3):\n",
    "\"\"\"\n",
    "def displaySortedNumbers(num1,num2,num3):\n",
    "    #num1,num2,num3 = map(int, input().split())\n",
    "    #num1= int(input('请输入第一个整数：'))\n",
    "    #num2= int(input('请输入第二个整数：'))\n",
    "    #num3= int(input('请输入第三个整数：')) \n",
    "    print(num1,num2,num3)\n",
    "    if num1>num2>num3:\n",
    "         print(num3,num2,num1)\n",
    "    elif num1> num3>num2:\n",
    "        print(num2,num3,num1)\n",
    "    elif num2> num1 > num3:\n",
    "         print(num3,num1,num2)\n",
    "    elif num2 > num3 > num1:\n",
    "         print(num1,num3,num2)\n",
    "    elif num3 > num1 > num2:\n",
    "         print(num2,num1,num3)\n",
    "    else:\n",
    "         print(num1,num2,num3)\n",
    "displaySortedNumbers(5,2,4)\n",
    "    "
   ]
  },
  {
   "cell_type": "code",
   "execution_count": 4,
   "metadata": {},
   "outputs": [
    {
     "name": "stdout",
     "output_type": "stream",
     "text": [
      "1 10900.0\n",
      "2 10900.0\n",
      "3 10900.0\n",
      "4 10900.0\n",
      "5 10900.0\n",
      "6 10900.0\n",
      "7 10900.0\n",
      "8 10900.0\n",
      "9 10900.0\n",
      "10 10900.0\n",
      "11 10900.0\n",
      "12 10900.0\n",
      "13 10900.0\n",
      "14 10900.0\n",
      "15 10900.0\n",
      "16 10900.0\n",
      "17 10900.0\n",
      "18 10900.0\n",
      "19 10900.0\n",
      "20 10900.0\n",
      "21 10900.0\n",
      "22 10900.0\n",
      "23 10900.0\n",
      "24 10900.0\n",
      "25 10900.0\n",
      "26 10900.0\n",
      "27 10900.0\n",
      "28 10900.0\n",
      "29 10900.0\n",
      "30 10900.0\n"
     ]
    }
   ],
   "source": [
    "\"\"\"\n",
    "4.编写一个程序提示用户输入投资额和百分比格式的年利率，然后输出一份表格显示年份从1到30年的未来值。\n",
    "def futureInvestmentVa(investmentAmount,monthlyInterestRate,years):投资金额，每月利息\n",
    "\"\"\"\n",
    "def futureInvestmentValue(investmentAmount,monthlyInterestRate,years):\n",
    "    years = years+1\n",
    "    for i in range(1,years):\n",
    "        shouyi = investmentAmount + investmentAmount*monthlyInterestRate\n",
    "        print(i,shouyi)\n",
    "        benjin=shouyi\n",
    "futureInvestmentValue(10000,0.09,30)"
   ]
  },
  {
   "cell_type": "code",
   "execution_count": 5,
   "metadata": {},
   "outputs": [
    {
     "name": "stdout",
     "output_type": "stream",
     "text": [
      "2  3  4  5  6  7  8  9  :  ;\n",
      "<  =  >  ?  @  A  B  C  D  E\n",
      "F  G  H  I  J  K  L  M  N  O\n",
      "P  Q  R  S  T  U  V  W  X  Y\n"
     ]
    }
   ],
   "source": [
    "\"\"\"\n",
    "5、打印ch1到ch2之间的字符，按每行指定某个数来打印。\n",
    "编写一个测试程序，打印“1”到“Z”的字符，每行打印10个\n",
    "\"\"\"\n",
    "def printChars(ch1,ch2,num):\n",
    "    q=ord(ch1)+1\n",
    "    w=ord(ch2)\n",
    "    n=0\n",
    "    for i in range(q,w):\n",
    "        n=n+1\n",
    "        if n%num !=0:\n",
    "            print(chr(i),end='  ')\n",
    "        else:\n",
    "            print(chr(i))\n",
    "        \n",
    "printChars('1','Z',10)"
   ]
  },
  {
   "cell_type": "code",
   "execution_count": 6,
   "metadata": {},
   "outputs": [
    {
     "name": "stdout",
     "output_type": "stream",
     "text": [
      "2010 有365天\n",
      "2011 有365天\n",
      "2012 有366天\n",
      "2013 有365天\n",
      "2014 有365天\n",
      "2015 有365天\n",
      "2016 有366天\n",
      "2017 有365天\n",
      "2018 有365天\n",
      "2019 有365天\n",
      "2020 有366天\n"
     ]
    }
   ],
   "source": [
    "\"\"\"\n",
    "6.编写一个程序测试，显示从2010年到2020年每年的天数。闰年，平年\n",
    "\"\"\"\n",
    "def number0fDaysInA(year):\n",
    "    \n",
    "    if year %4==0 and year % 100 !=0: \n",
    "        print(year,\"有366天\")\n",
    "    elif year %400 ==0:\n",
    "        print(year,\"有366天\")\n",
    "    else:\n",
    "        print(year,\"有365天\")\n",
    "        \n",
    "for year in range(2010,2021):\n",
    "    number0fDaysInA(year)"
   ]
  },
  {
   "cell_type": "code",
   "execution_count": 7,
   "metadata": {},
   "outputs": [
    {
     "name": "stdout",
     "output_type": "stream",
     "text": [
      "两点间距离为： 2.8284271247461903\n"
     ]
    }
   ],
   "source": [
    "\"\"\"\n",
    "7、计算两点间距离\n",
    "\"\"\"\n",
    "import math\n",
    "def distance(x1,y1,x2,y2):\n",
    "    q=(x1-x2)**2\n",
    "    w=(y1-y2)**2\n",
    "    e=q+w\n",
    "    dis= math.sqrt(e)\n",
    "    print(\"两点间距离为：\",dis)\n",
    "    \n",
    "distance(1,2,3,4)"
   ]
  },
  {
   "cell_type": "code",
   "execution_count": 8,
   "metadata": {},
   "outputs": [
    {
     "name": "stdout",
     "output_type": "stream",
     "text": [
      "2 3\n",
      "3 7\n",
      "5 31\n",
      "7 127\n",
      "11 2047\n",
      "13 8191\n",
      "17 131071\n",
      "19 524287\n",
      "23 8388607\n",
      "29 536870911\n",
      "31 2147483647\n"
     ]
    }
   ],
   "source": [
    "\"\"\"\n",
    "8、如果一个素数可以写成2**（P-1）的形式，其中p是某个正整数，\n",
    "    那么这个数就被称作梅森素数。编写程序找出p<=31的梅森素数。\n",
    "\"\"\"\n",
    "def meisen(p):\n",
    "    q=pow(2,p)-1\n",
    "    m=2\n",
    "    if p==2:\n",
    "        print(p,q)\n",
    "    for i in range(2,p):\n",
    "        m=m+1\n",
    "        if p%i==0:\n",
    "            break\n",
    "        if m == p:\n",
    "            print(p,q)\n",
    "            \n",
    "for p in range(1,32):\n",
    "    meisen(p)"
   ]
  },
  {
   "cell_type": "code",
   "execution_count": 9,
   "metadata": {},
   "outputs": [
    {
     "name": "stdout",
     "output_type": "stream",
     "text": [
      "1565572046.7934282\n",
      "Cuurrent date and time is 2019 年 8 月 12 日 9 : 7 : 26\n"
     ]
    }
   ],
   "source": [
    "\"\"\"\n",
    "9、调用time.time()返回1970年1月1日0点开始的毫秒数。\n",
    "\"\"\"\n",
    "import time\n",
    "print(time.time())\n",
    "\"\"\"\n",
    " time.localtime(time.time())输出结果为\n",
    " time.struct_time(tm_year=2019, tm_mon=8, \n",
    " tm_mday=6, tm_hour=19, tm_min=21, tm_sec=46, \n",
    " tm_wday=1, tm_yday=218, tm_isdst=0)\n",
    "\"\"\"\n",
    "time = time.localtime(time.time())\n",
    "print(\"Cuurrent date and time is\",time.tm_year,\"年\",\n",
    "      time.tm_mon,\"月\",time.tm_mday,\"日\",\n",
    "      time.tm_hour,\":\",time.tm_min,\":\",time.tm_sec)"
   ]
  },
  {
   "cell_type": "code",
   "execution_count": 10,
   "metadata": {},
   "outputs": [
    {
     "name": "stdout",
     "output_type": "stream",
     "text": [
      "您第一次抛出的点数为: 2\n",
      "您第二次抛出的点数为: 6\n",
      "您抛出的两次点数之和为： 8\n",
      "您第一次抛出的点数为: 6\n",
      "您第二次抛出的点数为: 3\n",
      "您抛出的两次点数之和为： 9\n",
      "请开始下一局！\n"
     ]
    }
   ],
   "source": [
    "\"\"\"\n",
    "10、投掷子。\n",
    "\"\"\"\n",
    "import numpy as np\n",
    "def dianshu():\n",
    "    res1 = np.random.choice([1,2,3,4,5,6])\n",
    "    print(\"您第一次抛出的点数为:\",res1)\n",
    "    res2 = np.random.choice([1,2,3,4,5,6])\n",
    "    print(\"您第二次抛出的点数为:\",res2)\n",
    "    res = res1 + res2\n",
    "    print(\"您抛出的两次点数之和为：\",res)\n",
    "    return res\n",
    "res = dianshu()\n",
    "if res==2 or res==3 or res==12:\n",
    "    print(\"你输了！！！\")\n",
    "elif res==7 or res==11:\n",
    "    print(\"你赢了！！！\")\n",
    "else:\n",
    "    res3 = res\n",
    "    res = dianshu()\n",
    "    if res ==7 or res == res3:\n",
    "        print(\"你赢了！！！\")\n",
    "    else:\n",
    "        print(\"请开始下一局！\")"
   ]
  },
  {
   "cell_type": "code",
   "execution_count": null,
   "metadata": {},
   "outputs": [],
   "source": [
    "import numpy as np\n",
    "class Wangzhe(object):\n",
    "    def __init__(self):\n",
    "        pass\n",
    "    def renji(self):\n",
    "        print('请选择人机或者多人对战！')\n",
    "        res = input('输入')\n",
    "        print(\"您选的是\",res)\n",
    "        self.res=res\n",
    "    def tiaoxuan(self):\n",
    "        print('请从典韦、赵云、鲁班中挑选一个人物！')\n",
    "        ren = input('输入')\n",
    "        print(\"您选的是\",ren)\n",
    "        self.ren=ren\n",
    "    def xianshizhanli(self):\n",
    "        if self.ren == '典韦':\n",
    "            print(\"您选择的典韦战力为10000，防御力为5000\")\n",
    "        elif self.ren == '赵云':\n",
    "            print(\"您选择的赵云战力为20000，防御力为2000\")\n",
    "        else:\n",
    "            print(\"您选择的鲁班战力为15000，防御力为3500\")\n",
    "    def renwuqueding(self):\n",
    "        print(\"您的人物以确定，现在系统随机为您生成对战玩家\")\n",
    "        q = np.random.choice(['典韦','赵云','鲁班'])\n",
    "        print('您的对手为',q)\n",
    "    def kaishi(self):\n",
    "        print(\"请输入开始\")\n",
    "        w = input('输入')\n",
    "        if w == \"开始\":\n",
    "            print(\"输入正确\")\n",
    "        else:\n",
    "            print(\"输入有误！\")\n",
    "    def jiazai(self):\n",
    "        print('正在加载，请耐心等待！')\n",
    "    \n",
    "qwe = Wangzhe()\n",
    "qwe.renji()\n",
    "qwe.tiaoxuan()\n",
    "qwe.xianshizhanli()\n",
    "qwe.renwuqueding()\n",
    "qwe.kaishi()\n",
    "qwe.jiazai()"
   ]
  }
 ],
 "metadata": {
  "kernelspec": {
   "display_name": "Python 3",
   "language": "python",
   "name": "python3"
  },
  "language_info": {
   "codemirror_mode": {
    "name": "ipython",
    "version": 3
   },
   "file_extension": ".py",
   "mimetype": "text/x-python",
   "name": "python",
   "nbconvert_exporter": "python",
   "pygments_lexer": "ipython3",
   "version": "3.7.3"
  }
 },
 "nbformat": 4,
 "nbformat_minor": 2
}
